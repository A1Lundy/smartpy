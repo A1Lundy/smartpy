{
 "cells": [
  {
   "cell_type": "markdown",
   "metadata": {},
   "source": [
    "# Demonstration of SMARTpy's API"
   ]
  },
  {
   "cell_type": "markdown",
   "metadata": {},
   "source": [
    "This notebook showcases an example of the use of the API of SMARTpy. It uses the input files available in the folder `examples/in/ExampleDaily`. The output files that should be generated following this tutorial are made available for comparison purposes in `examples/out/ExampleDaily`."
   ]
  },
  {
   "cell_type": "markdown",
   "metadata": {},
   "source": [
    "## Preamble"
   ]
  },
  {
   "cell_type": "markdown",
   "metadata": {},
   "source": [
    "To reduce the number of paths the user needs to provide, SMARTpy requires the creation by the user of a directory (called `root` hereafter) containing two subdirectories named `in` and `out`. Within the subdirectory `in`, a subsubdirectory having the same name as the catchment to be modelled must be created: this is in this directory that SMARTpy will be looking for the input files. Following this setup, all the catchments the user desires to model can be gathered in one place, and it makes things much easier when dealing with large samples."
   ]
  },
  {
   "cell_type": "markdown",
   "metadata": {},
   "source": [
    "The structure of the root directory should follow the pattern described in the following schematic (where catchment can be replaced by the actual name of the catchment):"
   ]
  },
  {
   "cell_type": "markdown",
   "metadata": {},
   "source": [
    "    root/\n",
    "        in/\n",
    "            catchment/\n",
    "                catchment.rain\n",
    "                catchment.peva\n",
    "                catchment.flow\n",
    "                catchment.parameters\n",
    "        out/"
   ]
  },
  {
   "cell_type": "markdown",
   "metadata": {},
   "source": [
    "## Setting up"
   ]
  },
  {
   "cell_type": "markdown",
   "metadata": {},
   "source": [
    "After having installed `smartpy` (following the instructions given in the README file), the first thing that needs to be done is, of course, to import the smartpy package to start using its modules, classes, and functions."
   ]
  },
  {
   "cell_type": "code",
   "execution_count": null,
   "metadata": {},
   "outputs": [],
   "source": [
    "import smartpy"
   ]
  },
  {
   "cell_type": "markdown",
   "metadata": {},
   "source": [
    "Then, you need to create an instance of the class SMART for the catchment you desire to model. By doing so, all the input data will be collected from the input files. All arguments are mandatory except `gauged_area_m2`. If `gauged_area_m2` is provided, it means that discharge measurements are available, and SMARTpy is expecting a *.flow* file in the input folder. These measurements can be used later on in post-processing to evaluate the performance of the simulation."
   ]
  },
  {
   "cell_type": "code",
   "execution_count": null,
   "metadata": {},
   "outputs": [],
   "source": [
    "from datetime import datetime, timedelta\n",
    "\n",
    "sm = smartpy.SMART(\n",
    "    catchment='ExampleDaily', \n",
    "    catchment_area_m2=175.46, \n",
    "    start=datetime.strptime('01/01/2007 09:00:00', '%d/%m/%Y %H:%M:%S'), \n",
    "    end=datetime.strptime('31/12/2016 09:00:00', '%d/%m/%Y %H:%M:%S'), \n",
    "    time_delta_simu=timedelta(hours=1), \n",
    "    time_delta_report=timedelta(days=1), \n",
    "    warm_up_days=365, \n",
    "    in_format='csv', \n",
    "    root='examples/',\n",
    "    gauged_area_m2=175.97\n",
    ")"
   ]
  },
  {
   "cell_type": "markdown",
   "metadata": {},
   "source": [
    "Now it is time to give the model its parameter values. The recommended way to go is to use a file containing the parameter values, following the template in the example file used for this tutorial. The given values will be accessible in the attribute `{SMART_instance}.parameters.values` (where SMART_instance is sm in this tutorial, that it is to say the name binding to the instance of SMART used)."
   ]
  },
  {
   "cell_type": "code",
   "execution_count": null,
   "metadata": {},
   "outputs": [],
   "source": [
    "sm.set_parameters_with_file('examples/in/ExampleDaily/ExampleDaily.parameters')"
   ]
  },
  {
   "cell_type": "markdown",
   "metadata": {},
   "source": [
    "Alternatively, you can avoid the creation of a *.parameters* file and directly provide them as a dictionary, as follows:"
   ]
  },
  {
   "cell_type": "code",
   "execution_count": null,
   "metadata": {},
   "outputs": [],
   "source": [
    "sm.set_parameters_with_dict(\n",
    "    {\n",
    "        'T': 1.0,\n",
    "        'C': 1.0,\n",
    "        'H': 0.20845,\n",
    "        'D': 0.24606,\n",
    "        'S': 0.0001230,\n",
    "        'Z': 105.26,\n",
    "        'SK': 46.82,\n",
    "        'FK': 315.55,\n",
    "        'GK': 1066.73,\n",
    "        'RK': 10.64\n",
    "    }\n",
    ")"
   ]
  },
  {
   "cell_type": "markdown",
   "metadata": {},
   "source": [
    "## Simulating"
   ]
  },
  {
   "cell_type": "markdown",
   "metadata": {},
   "source": [
    "The SMART instance has now all it needs to start the simulation for the catchment over the time period set up. One last instruction and the simulations will be under way. The method simulate needs to be given the parameter values, they are directly accessible from the SMART instance attributes."
   ]
  },
  {
   "cell_type": "code",
   "execution_count": null,
   "metadata": {},
   "outputs": [],
   "source": [
    "sm.simulate(sm.parameters.values)"
   ]
  },
  {
   "cell_type": "markdown",
   "metadata": {},
   "source": [
    "## Writing output files"
   ]
  },
  {
   "cell_type": "markdown",
   "metadata": {},
   "source": [
    "First, one might want to save the simulation results in output files. This can be done using the following instruction:"
   ]
  },
  {
   "cell_type": "code",
   "execution_count": null,
   "metadata": {},
   "outputs": [],
   "source": [
    "sm.write_output_files()"
   ]
  },
  {
   "cell_type": "markdown",
   "metadata": {},
   "source": [
    "## Post-processing"
   ]
  },
  {
   "cell_type": "markdown",
   "metadata": {},
   "source": [
    "SMART comes with a few objective functions that can be used to assess the performance of the simulation against evaluation data. These objectives functions are only usable if the `gauged_area_m2` was provided in the SMART object instance. If this is the case, the *.flow* has already been read and the data is directly available from the SMART instance (see below). In a similar way, the SMART instance gives you access (after simulation) to the simulated discharge. You can then evaluate these two series using one of the objective functions available in smartpy.objfunctions (for example the Nash Sutcliffe Efficiency here)."
   ]
  },
  {
   "cell_type": "code",
   "execution_count": null,
   "metadata": {},
   "outputs": [],
   "source": [
    "evaluation_ = smart_model.get_evaluation_array()\n",
    "simulation_ = smart_model.get_simulation_array()"
   ]
  },
  {
   "cell_type": "markdown",
   "metadata": {},
   "source": [
    "The evaluation and simulation arrays returned have the same length. However, it is frequent to have days with missing discharge measurements, that would have been absent from the file. SMARTpy assigned a `nan` (not a number) value for these days with missing data, this is why the two arrays have the same length. However, when comparing them using an objective function, only days with available observations can be used. To deal with this, a solution is as follows:"
   ]
  },
  {
   "cell_type": "code",
   "execution_count": null,
   "metadata": {},
   "outputs": [],
   "source": [
    "import numpy as np\n",
    "\n",
    "evaluation = evaluation_[~np.isnan(evaluation_)]\n",
    "simulation = simulation_[~np.isnan(evaluation_)]"
   ]
  },
  {
   "cell_type": "markdown",
   "metadata": {},
   "source": [
    "Now that the arrays still have the same length but with no missing value, the objective function can be calculated."
   ]
  },
  {
   "cell_type": "code",
   "execution_count": null,
   "metadata": {},
   "outputs": [],
   "source": [
    "nse = smartpy.objfunctions.nash_sutcliffe(evaluation=evaluation, simulation=simulation)"
   ]
  }
 ],
 "metadata": {
  "kernelspec": {
   "display_name": "Python 2",
   "language": "python",
   "name": "python2"
  },
  "language_info": {
   "codemirror_mode": {
    "name": "ipython",
    "version": 2
   },
   "file_extension": ".py",
   "mimetype": "text/x-python",
   "name": "python",
   "nbconvert_exporter": "python",
   "pygments_lexer": "ipython2",
   "version": "2.7.13"
  }
 },
 "nbformat": 4,
 "nbformat_minor": 2
}
